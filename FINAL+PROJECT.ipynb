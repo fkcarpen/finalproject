{
 "cells": [
  {
   "cell_type": "code",
   "execution_count": null,
   "metadata": {
    "collapsed": false
   },
   "outputs": [],
   "source": [
    "make = input(\"Enter what make of car you are looking for: \")\n",
    "model = input(\"Enter what model of car you are looking for: \")\n",
    "pricehigh = input(\"Enter the highest price you are searching for: \")\n",
    "pricelow = input(\"Enter the lowest price you are searching for: \")\n",
    "zipcode = input(\"Enter your zipcode: \")\n",
    "radius = input(\"Enter search radius in miles: \")\n",
    "\n",
    "import json\n",
    "import requests\n",
    "\n",
    "make_url = ('http://api.edmunds.com/api/vehicle/v2/makes/count?fmt=json&api_key=wr2n4jks3u4tbe485hh3kbuu')\n",
    "model_url =('https://api.edmunds.com/api/vehicle/v2/{make}/models/count?fmt=json&api_key=wr2n4jks3u4tbe485hh3kbuu')\n",
    "zipcode_url = ('https://api.edmunds.com/api/dealer/v2/dealers/count?zipcode={zipcode}&fmt=json&api_key=wr2n4jks3u4tbe485hh3kbuu&fmt=json')\n",
    "truecost_url = ('https://api.edmunds.com/v1/api/tco/newtruecosttoownbystyleidandzip/{style ID}/{zipcode}?fmt=json&api_key=wr2n4jks3u4tbe485hh3kbuu')\n",
    "\n",
    "make_response = requests.get(make_url)\n",
    "model_response = requests.get(model_url)\n",
    "zipcode_response = requests.get(zipcode_url)\n",
    "\n",
    "\n",
    "\n",
    "\n",
    "\n",
    "\n"
   ]
  },
  {
   "cell_type": "code",
   "execution_count": null,
   "metadata": {
    "collapsed": true
   },
   "outputs": [],
   "source": []
  }
 ],
 "metadata": {
  "kernelspec": {
   "display_name": "Python 3",
   "language": "python",
   "name": "python3"
  },
  "language_info": {
   "codemirror_mode": {
    "name": "ipython",
    "version": 3
   },
   "file_extension": ".py",
   "mimetype": "text/x-python",
   "name": "python",
   "nbconvert_exporter": "python",
   "pygments_lexer": "ipython3",
   "version": "3.5.2"
  }
 },
 "nbformat": 4,
 "nbformat_minor": 2
}
